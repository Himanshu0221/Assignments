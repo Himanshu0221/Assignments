{
 "cells": [
  {
   "cell_type": "markdown",
   "id": "4efe940e",
   "metadata": {},
   "source": [
    "### Assignment_6"
   ]
  },
  {
   "cell_type": "markdown",
   "id": "7dc89327",
   "metadata": {},
   "source": [
    "#### Q.1. What are keywords in python? Using the keyword library, print all the python keywords."
   ]
  },
  {
   "cell_type": "markdown",
   "id": "9bffa61f",
   "metadata": {},
   "source": [
    "Keywords in Python are reserved words that have predefined meanings and cannot be used as identifiers (variable names, function names, etc.) in the code. These keywords are used to define the syntax and structure of the Python language."
   ]
  },
  {
   "cell_type": "code",
   "execution_count": 2,
   "id": "fffc7b78",
   "metadata": {},
   "outputs": [
    {
     "name": "stdout",
     "output_type": "stream",
     "text": [
      "['False', 'None', 'True', 'and', 'as', 'assert', 'async', 'await', 'break', 'class', 'continue', 'def', 'del', 'elif', 'else', 'except', 'finally', 'for', 'from', 'global', 'if', 'import', 'in', 'is', 'lambda', 'nonlocal', 'not', 'or', 'pass', 'raise', 'return', 'try', 'while', 'with', 'yield']\n"
     ]
    }
   ],
   "source": [
    "import keyword\n",
    "\n",
    "all_keywords = keyword.kwlist\n",
    "\n",
    "print(all_keywords)\n"
   ]
  },
  {
   "cell_type": "markdown",
   "id": "a6920d83",
   "metadata": {},
   "source": [
    "#### Q.2. What are the rules to create variables in python?"
   ]
  },
  {
   "cell_type": "markdown",
   "id": "7f236394",
   "metadata": {},
   "source": [
    "In Python, variables must start with a letter or underscore, followed by letters, digits, or underscores. They are case-sensitive. Reserved keywords cannot be used as variable names. Choose descriptive names, avoid starting with digits, and follow the naming conventions for readability and maintainability."
   ]
  },
  {
   "cell_type": "markdown",
   "id": "1c7aa91e",
   "metadata": {},
   "source": [
    "#### Q.3. What are the standards and conventions followed for the nomenclature of variables in python to improve code readability and maintainability?"
   ]
  },
  {
   "cell_type": "markdown",
   "id": "88176b61",
   "metadata": {},
   "source": [
    "\n",
    "In Python, there are several standards and conventions followed for variable naming to enhance code readability and maintainability. These conventions include:\n",
    "\n",
    "1. Snake Case: Variable names are written in lowercase with words separated by underscores (e.g., my_variable, total_count).\n",
    "\n",
    "2. Descriptive Names: Variable names should be meaningful and descriptive to convey their purpose and content (e.g., num_students, user_input).\n",
    "\n",
    "3. Avoid Abbreviations: Unless widely used and understood, it's better to avoid excessive abbreviations to maintain clarity (e.g., use maximum instead of max).\n",
    "\n",
    "4. Use of Constants: Constants are usually written in uppercase letters with underscores (e.g., MAX_VALUE, PI).\n",
    "\n",
    "By following these standards and conventions, code becomes more readable, self-explanatory, and easier to maintain, enabling collaboration and understanding among developers."
   ]
  },
  {
   "cell_type": "markdown",
   "id": "62bfa853",
   "metadata": {},
   "source": [
    "#### Q.4. What will happen if a keyword is used as a variable name?"
   ]
  },
  {
   "cell_type": "markdown",
   "id": "cb6c48e9",
   "metadata": {},
   "source": [
    "If a keyword is used as a variable name in Python, it will result in a syntax error. Keywords are reserved and have predefined meanings in the language. Python treats them as special tokens, and using them as variable names violates the language rules, leading to a syntax error during execution."
   ]
  },
  {
   "cell_type": "markdown",
   "id": "9e2486ec",
   "metadata": {},
   "source": [
    "#### Q.5. For what purpose def keyword is used?"
   ]
  },
  {
   "cell_type": "markdown",
   "id": "49607cde",
   "metadata": {},
   "source": [
    "The def keyword is used in Python to define a function. When def is followed by a function name and a set of parentheses, it indicates the start of a function definition block. The subsequent indented code under the def statement defines the functionality and behavior of the function."
   ]
  },
  {
   "cell_type": "markdown",
   "id": "b6a74cbd",
   "metadata": {},
   "source": [
    "#### Q.6. What is the operation of this special character ‘\\’?"
   ]
  },
  {
   "cell_type": "markdown",
   "id": "3f65c1a3",
   "metadata": {},
   "source": [
    "The backslash character () is an escape character in Python. It is used to indicate special characters or sequences in strings. For example, \\n represents a newline character, \\t represents a tab character, and \\\" represents a double quote character. It allows the inclusion of characters that are not easily typable or have special meanings within strings."
   ]
  },
  {
   "cell_type": "markdown",
   "id": "adb17bc4",
   "metadata": {},
   "source": [
    "#### Q.7. Give an example of the following conditions:\n",
    "#### (i) Homogeneous list\n",
    "#### (ii) Heterogeneous set\n",
    "#### (iii) Homogeneous tuple"
   ]
  },
  {
   "cell_type": "markdown",
   "id": "d59d4127",
   "metadata": {},
   "source": [
    "(i) Homogeneous list:\n",
    "A homogeneous list is a list where all the elements are of the same data type. Here's an example of a homogeneous list of integers:"
   ]
  },
  {
   "cell_type": "code",
   "execution_count": 3,
   "id": "8019c89f",
   "metadata": {},
   "outputs": [],
   "source": [
    "numbers = [1, 2, 3, 4, 5]\n"
   ]
  },
  {
   "cell_type": "markdown",
   "id": "07b58042",
   "metadata": {},
   "source": [
    "(ii) Heterogeneous set:\n",
    "A heterogeneous set is a set where the elements can be of different data types. Here's an example of a heterogeneous set:"
   ]
  },
  {
   "cell_type": "code",
   "execution_count": 4,
   "id": "114d5a80",
   "metadata": {},
   "outputs": [],
   "source": [
    "my_set = {1, 'apple', True, 3.14}\n"
   ]
  },
  {
   "cell_type": "markdown",
   "id": "3395b27f",
   "metadata": {},
   "source": [
    "(iii) Homogeneous tuple:\n",
    "A homogeneous tuple is a tuple where all the elements are of the same data type. Here's an example of a homogeneous tuple of strings:"
   ]
  },
  {
   "cell_type": "code",
   "execution_count": 5,
   "id": "76157c96",
   "metadata": {},
   "outputs": [],
   "source": [
    "fruits = ('apple', 'banana', 'orange', 'kiwi')\n"
   ]
  },
  {
   "cell_type": "markdown",
   "id": "b74dac8d",
   "metadata": {},
   "source": [
    "#### Q.8. Explain the mutable and immutable data types with proper explanation & examples."
   ]
  },
  {
   "cell_type": "markdown",
   "id": "3c96506a",
   "metadata": {},
   "source": [
    "The key difference between mutable and immutable data types is that mutable objects can be modified directly, while immutable objects cannot be changed after creation. Understanding mutability is crucial for avoiding unexpected side effects when working with data in Python."
   ]
  },
  {
   "cell_type": "markdown",
   "id": "7cd5bfc4",
   "metadata": {},
   "source": [
    "#### Q.9. Write a code to create the given structure using only for loop"
   ]
  },
  {
   "cell_type": "code",
   "execution_count": 13,
   "id": "1909c400",
   "metadata": {},
   "outputs": [
    {
     "name": "stdout",
     "output_type": "stream",
     "text": [
      "          * \n",
      "        * * * \n",
      "      * * * * * \n",
      "    * * * * * * * \n",
      "  * * * * * * * * * \n"
     ]
    }
   ],
   "source": [
    "n = 5\n",
    "\n",
    "for i in range(n):\n",
    "    for j in range(i,n):\n",
    "        print(\" \", end = \" \")\n",
    "    for j in range(i):\n",
    "        print(\"*\", end=\" \")\n",
    "    for j in range(i+1):\n",
    "        print(\"*\", end=\" \")\n",
    "    print()"
   ]
  },
  {
   "cell_type": "markdown",
   "id": "2dd0e48f",
   "metadata": {},
   "source": [
    "#### Q.10. Write a code to create the given structure using while loop."
   ]
  },
  {
   "cell_type": "code",
   "execution_count": 14,
   "id": "5557f7e8",
   "metadata": {},
   "outputs": [
    {
     "name": "stdout",
     "output_type": "stream",
     "text": [
      "  | | | | | | | | | \n",
      "    | | | | | | | \n",
      "      | | | | | \n",
      "        | | | \n",
      "          | \n"
     ]
    }
   ],
   "source": [
    "n=5\n",
    "\n",
    "for i in range(n):\n",
    "    for j in range(i+1):\n",
    "        print(\" \", end =\" \")\n",
    "    for j in range(i,n):\n",
    "        print(\"|\", end= \" \")\n",
    "    for j in range(i, n-1):\n",
    "        print(\"|\", end= \" \")\n",
    "    print()"
   ]
  },
  {
   "cell_type": "code",
   "execution_count": null,
   "id": "26a49d60",
   "metadata": {},
   "outputs": [],
   "source": []
  }
 ],
 "metadata": {
  "kernelspec": {
   "display_name": "Python 3 (ipykernel)",
   "language": "python",
   "name": "python3"
  },
  "language_info": {
   "codemirror_mode": {
    "name": "ipython",
    "version": 3
   },
   "file_extension": ".py",
   "mimetype": "text/x-python",
   "name": "python",
   "nbconvert_exporter": "python",
   "pygments_lexer": "ipython3",
   "version": "3.10.9"
  }
 },
 "nbformat": 4,
 "nbformat_minor": 5
}
