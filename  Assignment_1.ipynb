{
 "cells": [
  {
   "cell_type": "markdown",
   "id": "6a6a3a44",
   "metadata": {},
   "source": [
    "### Assignment_1"
   ]
  },
  {
   "cell_type": "markdown",
   "id": "0f88239f",
   "metadata": {},
   "source": [
    "#### 1. In the below elements which of them are values or an expression? eg:- values can be integer or string and expressions will  be mathematical operators."
   ]
  },
  {
   "cell_type": "markdown",
   "id": "524994c7",
   "metadata": {},
   "source": [
    "* = expression\n",
    "\n",
    "'hello' = string\n",
    "\n",
    "-87.8  = float\n",
    "\n",
    "-  = experssion\n",
    "\n",
    "/  = experssion\n",
    "\n",
    "+  = expression\n",
    "\n",
    "6  = integer\n"
   ]
  },
  {
   "cell_type": "markdown",
   "id": "6e649eb6",
   "metadata": {},
   "source": [
    "#### 2. What is the difference between string and variable?"
   ]
  },
  {
   "cell_type": "markdown",
   "id": "54773f47",
   "metadata": {},
   "source": [
    "String: A string is a data type that represents a sequence of characters. It is used to store and manipulate textual data.\n",
    "\n",
    "Variable: A variable is a named storage location in a computer program that holds a value. It is used to store and retrieve data during program execution."
   ]
  },
  {
   "cell_type": "markdown",
   "id": "1915f107",
   "metadata": {},
   "source": [
    "#### 3.Describe three different data types."
   ]
  },
  {
   "cell_type": "markdown",
   "id": "52ad2498",
   "metadata": {},
   "source": [
    "Integer (int): The integer data type represents whole numbers without any decimal places. It can store both positive and negative numbers.\n",
    "\n",
    "Floating-Point (float or double): The floating-point data type is used to represent numbers that have decimal places. It can store both whole numbers and fractional numbers. \n",
    "\n",
    "String: The string data type represents a sequence of characters. It is used to store and manipulate textual data."
   ]
  },
  {
   "cell_type": "markdown",
   "id": "b7cd209b",
   "metadata": {},
   "source": [
    "#### 4.What is an expression made up of? What do all expressions do?"
   ]
  },
  {
   "cell_type": "markdown",
   "id": "739655b2",
   "metadata": {},
   "source": [
    "An expression is a combination of values, variables, operators, and function calls that can be evaluated to produce a result. It represents a computation or a calculation in a programming language\n",
    "\n",
    "Expressions can have different purposes depending on their context within a program like calculation, comparison,assignment and transformation. Expressions are fundamental building blocks in programming languages that allow you to perform computations, make decisions, and manipulate data within a program. They are evaluated to produce a result that can be further utilized or stored in variables for subsequent use.\n",
    "\n",
    "\n",
    "\n",
    "\n",
    "\n",
    "\n"
   ]
  },
  {
   "cell_type": "markdown",
   "id": "f80120a5",
   "metadata": {},
   "source": [
    "#### 5.This assignment statements, like spam = 10. What is the difference between anexpression and a statement?"
   ]
  },
  {
   "cell_type": "markdown",
   "id": "8ef0e2ae",
   "metadata": {},
   "source": [
    "The main difference between expressions and statements is their purpose and the level of completeness. Expressions focus \n",
    "on computation and evaluation, producing a single value as a result. They can be embedded within statements or other expressions.\n",
    "\n",
    "Statements, on the other hand, are complete instructions or actions that go beyond mere computation. They control the flow of \n",
    "the program, perform assignments, make decisions, and execute sets of instructions. Statements can contain expressions, but \n",
    "they are not necessarily evaluated to produce a single value.\n",
    "\n",
    "In summary, expressions are used for computations and evaluations, producing a value, while statements are complete instructions \n",
    "or actions that perform tasks and control the flow of a program.\n"
   ]
  },
  {
   "cell_type": "markdown",
   "id": "8f26074f",
   "metadata": {},
   "source": [
    "#### 6. After running the following code, what does the variable bacon contain?\n",
    "#### bacon = 22\n",
    "#### bacon + 1"
   ]
  },
  {
   "cell_type": "code",
   "execution_count": 12,
   "id": "62dd3ea4",
   "metadata": {},
   "outputs": [
    {
     "name": "stdout",
     "output_type": "stream",
     "text": [
      "22\n"
     ]
    }
   ],
   "source": [
    "bacon = 22\n",
    "bacon + 1\n",
    "print(bacon)"
   ]
  },
  {
   "cell_type": "markdown",
   "id": "c140757e",
   "metadata": {},
   "source": [
    "#### 7. What should the values of the following two terms be?"
   ]
  },
  {
   "cell_type": "code",
   "execution_count": 10,
   "id": "b143c920",
   "metadata": {},
   "outputs": [
    {
     "data": {
      "text/plain": [
       "'spamspamspam'"
      ]
     },
     "execution_count": 10,
     "metadata": {},
     "output_type": "execute_result"
    }
   ],
   "source": [
    "\"spam\" + \"spamspam\""
   ]
  },
  {
   "cell_type": "code",
   "execution_count": 11,
   "id": "708da71b",
   "metadata": {},
   "outputs": [
    {
     "data": {
      "text/plain": [
       "'spamspamspam'"
      ]
     },
     "execution_count": 11,
     "metadata": {},
     "output_type": "execute_result"
    }
   ],
   "source": [
    "'spam' * 3"
   ]
  },
  {
   "cell_type": "markdown",
   "id": "65789f8c",
   "metadata": {},
   "source": [
    "#### 8. Why is eggs a valid variable name while 100 is invalid?"
   ]
  },
  {
   "cell_type": "markdown",
   "id": "b19d1a0f",
   "metadata": {},
   "source": [
    "Variable names typically need to start with a letter (a-z or A-Z) or an underscore (_) \n",
    "character. They cannot start with a number. \"eggs\" starts with a letter, making it a valid variable name. However, \"100\" starts with a number, which violates this  rule."
   ]
  },
  {
   "cell_type": "markdown",
   "id": "430a8bb7",
   "metadata": {},
   "source": [
    "#### 9.What three functions can be used to get the integer, floating-point number, or string version of a value?"
   ]
  },
  {
   "cell_type": "markdown",
   "id": "e701de5e",
   "metadata": {},
   "source": [
    "1. int(): This function is used to convert a value to an integer data type. It takes a parameter and returns \n",
    "          the integer version of that value if possible.\n",
    "        \n",
    "2. float(): This function is used to convert a value to a floating-point number data type. It takes a parameter \n",
    "            and returns the floating-point version of that value if possible.\n",
    "        \n",
    "3. str(): This function is used to convert a value to a string data type. It takes a parameter and returns the \n",
    "          string version of that value."
   ]
  },
  {
   "cell_type": "markdown",
   "id": "84749b6c",
   "metadata": {},
   "source": [
    "#### 10. Why does this expression cause an error? How can you fix it?\n",
    "\n",
    "#### 'I have eaten' + 99 + 'burritos.'"
   ]
  },
  {
   "cell_type": "markdown",
   "id": "e0e0c7fa",
   "metadata": {},
   "source": [
    "The expression 'I have eaten' + 99 + burritos.' causes an error because it attempts to concatenate a string, a number (99). This leads to a type mismatch and results in a syntax error."
   ]
  },
  {
   "cell_type": "code",
   "execution_count": 19,
   "id": "bd98fbea",
   "metadata": {},
   "outputs": [
    {
     "data": {
      "text/plain": [
       "'I have eaten 99 burritos.'"
      ]
     },
     "execution_count": 19,
     "metadata": {},
     "output_type": "execute_result"
    }
   ],
   "source": [
    "'I have eaten' +' '  '99' ' ' + 'burritos.'"
   ]
  },
  {
   "cell_type": "code",
   "execution_count": null,
   "id": "d6d0a94a",
   "metadata": {},
   "outputs": [],
   "source": []
  }
 ],
 "metadata": {
  "kernelspec": {
   "display_name": "Python 3 (ipykernel)",
   "language": "python",
   "name": "python3"
  },
  "language_info": {
   "codemirror_mode": {
    "name": "ipython",
    "version": 3
   },
   "file_extension": ".py",
   "mimetype": "text/x-python",
   "name": "python",
   "nbconvert_exporter": "python",
   "pygments_lexer": "ipython3",
   "version": "3.10.9"
  }
 },
 "nbformat": 4,
 "nbformat_minor": 5
}
