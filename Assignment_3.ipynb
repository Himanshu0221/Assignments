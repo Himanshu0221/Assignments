{
 "cells": [
  {
   "cell_type": "markdown",
   "id": "16f9d0ba",
   "metadata": {},
   "source": [
    "### Assignment_3"
   ]
  },
  {
   "cell_type": "markdown",
   "id": "7488f725",
   "metadata": {},
   "source": [
    "#### 1. Why are functions advantageous to have in your programs?"
   ]
  },
  {
   "cell_type": "markdown",
   "id": "a59daed0",
   "metadata": {},
   "source": [
    "Functions are advantageous in programs because they promote code reusability, modularity, and readability. They allow us to \n",
    "break down complex tasks into smaller, manageable units, making code easier to understand, maintain, and debug. Functions \n",
    "also enable efficient testing and facilitate collaboration among developers."
   ]
  },
  {
   "cell_type": "markdown",
   "id": "6abb9622",
   "metadata": {},
   "source": [
    "#### 2. When does the code in a function run: when it's specified or when it's called?"
   ]
  },
  {
   "cell_type": "markdown",
   "id": "cc71781e",
   "metadata": {},
   "source": [
    "The code within a function runs when the function is called. When you define a function, you are essentially creating a reusable\n",
    "block of code with a specific name and a set of instructions. However, these instructions are not executed until the function is\n",
    "called or invoked in your program.\n",
    "\n",
    "When you call a function by its name followed by parentheses, the program transfers control to that function, and the code \n",
    "inside the function's body is executed. The function may take input parameters, which can be used within the function's code \n",
    "to perform certain operations or calculations. Once the function has finished executing its code, it may return a value or \n",
    "perform some action, and the program resumes from the point where the function was called.\n",
    "\n",
    "In summary, the code in a function runs when it is called or invoked during the program's execution, not when it is specified \n",
    "during the function definition."
   ]
  },
  {
   "cell_type": "markdown",
   "id": "2ef2bbe2",
   "metadata": {},
   "source": [
    "#### 3. What statement creates a function?"
   ]
  },
  {
   "cell_type": "code",
   "execution_count": 1,
   "id": "54546609",
   "metadata": {},
   "outputs": [],
   "source": [
    "\"\"\"the statement that creates a function is typically called a \"function definition.\"\n",
    "\n",
    "In Python, the basic syntax for creating a function is as follows:\"\"\"\n",
    "\n",
    "def function_name(parameters):\n",
    "    # Function body (code block)\n",
    "    # ...\n",
    "    # ...\n",
    "    return value\n"
   ]
  },
  {
   "cell_type": "markdown",
   "id": "646a7f8e",
   "metadata": {},
   "source": [
    "#### 4. What is the difference between a function and a function call?"
   ]
  },
  {
   "cell_type": "markdown",
   "id": "ff565e98",
   "metadata": {},
   "source": [
    "The difference between a function and a function call lies in their respective roles and behaviors within a program.\n",
    "\n",
    "Function:\n",
    "A function is a block of reusable code that performs a specific task or a set of instructions. It encapsulates a series of statements and can accept input parameters (arguments) and return a result (output). Functions are typically defined with a name, a set of parameters (optional), and a body of code. They are created to be called or invoked at a later time when their functionality is needed.\n",
    "\n",
    "Function Call:\n",
    "A function call is an instruction or statement that executes a specific function at a particular point in the program. It invokes the function and provides any necessary arguments or inputs. When a function call is encountered during program execution, the control flow jumps to the corresponding function definition, executes the code within the function body, and returns back to the point of the call once the function completes its execution.\n",
    "\n",
    "In summary, a function is a defined set of instructions that performs a specific task, while a function call is the act of invoking or executing that function at a particular point in the program. Function calls allow you to use the functionality provided by a function when and where it is needed."
   ]
  },
  {
   "cell_type": "markdown",
   "id": "6c7dc595",
   "metadata": {},
   "source": [
    "#### 5. How many global scopes are there in a Python program? How many local scopes?"
   ]
  },
  {
   "cell_type": "markdown",
   "id": "7ddfd77e",
   "metadata": {},
   "source": [
    "Python programs have one global scope, which represents the outermost level of the program. It encompasses the entire program and is accessible from anywhere within the program. In addition to the global scope, local scopes are created whenever a function or a code block (such as a loop or conditional statement) is executed. Each function or code block has its own local scope, which is separate from the global scope. Local scopes are temporary and exist only during the execution of the corresponding function or code block.\n",
    "\n",
    "In summary, there is one global scope and multiple local scopes in a Python program."
   ]
  },
  {
   "cell_type": "markdown",
   "id": "59caec17",
   "metadata": {},
   "source": [
    "#### 6. What happens to variables in a local scope when the function call returns?"
   ]
  },
  {
   "cell_type": "markdown",
   "id": "b3701c44",
   "metadata": {},
   "source": [
    "When a function call returns in Python, the local scope associated with that function is destroyed. This means that the variables defined within the local scope are no longer accessible or available for use outside of the function.\n",
    "The variables in the global scope or other higher-level scopes are not affected by the destruction of local variables. They remain in their respective scopes and can still be accessed and modified.\n",
    "\n",
    "When a function call returns, the variables in the local scope of the function are destroyed, and their values are no longer accessible. The program resumes execution in the calling scope, and any returned values can be utilized if specified."
   ]
  },
  {
   "cell_type": "markdown",
   "id": "aadf00bf",
   "metadata": {},
   "source": [
    "#### 7. What is the concept of a return value? Is it possible to have a return value in an expression?"
   ]
  },
  {
   "cell_type": "markdown",
   "id": "5c72bd24",
   "metadata": {},
   "source": [
    "\n",
    "The concept of a return value in programming refers to the value that a function can send back to the caller. When a function is executed and reaches a return statement, it can optionally specify a value to be returned. This return value provides a way for the function to communicate information or a result back to the code that called it.\n",
    "\n",
    "A return value can be of any data type, including integers, strings, booleans, lists, or even more complex data structures. It allows functions to perform a computation or operation and then pass the result back to the caller, enabling the caller to use or further process that result as needed.\n",
    "\n",
    "Yes, it is possible to have a return value in an expression. In Python, you can assign the return value of a function directly to a variable or use it as part of an expression. Here's an example:"
   ]
  },
  {
   "cell_type": "code",
   "execution_count": 2,
   "id": "268fba7e",
   "metadata": {},
   "outputs": [
    {
     "name": "stdout",
     "output_type": "stream",
     "text": [
      "8\n",
      "7\n"
     ]
    }
   ],
   "source": [
    "def add_numbers(a, b):\n",
    "    return a + b\n",
    "\n",
    "result = add_numbers(3, 5)\n",
    "print(result)  # Output: 8\n",
    "\n",
    "total = add_numbers(2, 4) + 1\n",
    "print(total)  # Output: 7\n"
   ]
  },
  {
   "cell_type": "markdown",
   "id": "a5f27d90",
   "metadata": {},
   "source": [
    "#### 8. If a function does not have a return statement, what is the return value of a call to that function?"
   ]
  },
  {
   "cell_type": "markdown",
   "id": "b9acfc1b",
   "metadata": {},
   "source": [
    "If a function does not have a return statement, or if the return statement is not reached during the execution of the function, the function call will still produce a return value. In Python, the return value in such cases is None.\n",
    "\n",
    "None is a special object in Python that represents the absence of a value. It is often used to indicate that a function has no specific result to return or that a variable doesn't have a value assigned.\n",
    "\n",
    "Here's an example:"
   ]
  },
  {
   "cell_type": "code",
   "execution_count": 4,
   "id": "c5f4ea91",
   "metadata": {},
   "outputs": [
    {
     "name": "stdout",
     "output_type": "stream",
     "text": [
      "Hello, Alice!\n",
      "None\n"
     ]
    }
   ],
   "source": [
    "def greet(name):\n",
    "    print(\"Hello, \" + name + \"!\")\n",
    "\n",
    "result = greet(\"Alice\")\n",
    "print(result)  # Output: None\n"
   ]
  },
  {
   "cell_type": "markdown",
   "id": "b8b658b5",
   "metadata": {},
   "source": [
    "#### 9.How do you make a function variable refer to the global variable?"
   ]
  },
  {
   "cell_type": "markdown",
   "id": "1e7075c8",
   "metadata": {},
   "source": [
    "To make a function variable refer to the global variable of the same name, we can use the global keyword in Python. The global keyword allows you to indicate that a variable inside a function should refer to the same variable in the global scope.\n",
    "\n",
    "Here's an example to demonstrate how to make a function variable refer to the global variable:"
   ]
  },
  {
   "cell_type": "code",
   "execution_count": 5,
   "id": "bc2dd059",
   "metadata": {},
   "outputs": [
    {
     "name": "stdout",
     "output_type": "stream",
     "text": [
      "10\n",
      "20\n"
     ]
    }
   ],
   "source": [
    "global_variable = 10\n",
    "\n",
    "def modify_global_variable():\n",
    "    global global_variable\n",
    "    global_variable = 20\n",
    "\n",
    "print(global_variable)  # Output: 10\n",
    "modify_global_variable()\n",
    "print(global_variable)  # Output: 20\n"
   ]
  },
  {
   "cell_type": "markdown",
   "id": "6e392f06",
   "metadata": {},
   "source": [
    "#### 10. What is the data type of None?"
   ]
  },
  {
   "cell_type": "markdown",
   "id": "e2d266ef",
   "metadata": {},
   "source": [
    "\n",
    "The data type of None is a special type called NoneType. It represents the absence of a value or the lack of any specific data.\n",
    "\n",
    "The None value is often used to indicate that a variable or function doesn't have a value or doesn't return a meaningful result. It is commonly used as a placeholder or default value.\n",
    "\n",
    "Here's an example that demonstrates the data type of None:"
   ]
  },
  {
   "cell_type": "code",
   "execution_count": 6,
   "id": "c8dcec91",
   "metadata": {},
   "outputs": [
    {
     "name": "stdout",
     "output_type": "stream",
     "text": [
      "<class 'NoneType'>\n",
      "<class 'NoneType'>\n"
     ]
    }
   ],
   "source": [
    "x = None\n",
    "print(type(x))  # Output: <class 'NoneType'>\n",
    "\n",
    "def do_something():\n",
    "    # No return statement\n",
    "    pass\n",
    "\n",
    "result = do_something()\n",
    "print(type(result))  # Output: <class 'NoneType'>\n"
   ]
  },
  {
   "cell_type": "markdown",
   "id": "55315b21",
   "metadata": {},
   "source": [
    "#### 12. If you had a bacon() feature in a spam module, what would you call it after importing spam?"
   ]
  },
  {
   "cell_type": "markdown",
   "id": "84dedaef",
   "metadata": {},
   "source": [
    "After importing the spam module, you can access the bacon() feature by using the following syntax:"
   ]
  },
  {
   "cell_type": "markdown",
   "id": "e848351b",
   "metadata": {},
   "source": [
    "import spam\n",
    "\n",
    "spam.bacon()\n"
   ]
  },
  {
   "cell_type": "markdown",
   "id": "89adb17d",
   "metadata": {},
   "source": [
    "spam is the module that contains the bacon() feature. By prefixing bacon() with spam., you can call the bacon() function and execute the code within it.\n",
    "\n",
    "Importing the spam module makes all the functions, classes, or variables defined in the module accessible using the module name as a prefix. This allows you to organize and access related functionalities within a module without conflicting with other names in your program.\n",
    "\n",
    "Remember to replace bacon() with the actual name of the feature or function provided by the spam module that you wish to call."
   ]
  },
  {
   "cell_type": "markdown",
   "id": "e1c95741",
   "metadata": {},
   "source": [
    "#### 13. What can you do to save a program from crashing if it encounters an error?"
   ]
  },
  {
   "cell_type": "markdown",
   "id": "9ec4bba9",
   "metadata": {},
   "source": [
    "To save a program from crashing if it encounters an error, you can use error handling techniques such as try-except blocks to catch and handle exceptions. By encapsulating potentially problematic code within a try block and providing appropriate error handling in the except block, we can prevent the program from abruptly terminating and gracefully manage errors."
   ]
  },
  {
   "cell_type": "markdown",
   "id": "3da04909",
   "metadata": {},
   "source": [
    "#### 14. What is the purpose of the try clause? What is the purpose of the except clause?"
   ]
  },
  {
   "cell_type": "markdown",
   "id": "df0e7cf1",
   "metadata": {},
   "source": [
    "The purpose of the try clause in Python is to enclose a block of code where exceptions might occur. It allows you to monitor and execute the code normally. If an exception is raised within the try block, the program flow is transferred to the except clause.\n",
    "\n",
    "The purpose of the except clause is to define the actions to be taken when a specific exception occurs. It specifies the exception type to handle, and if an exception of that type is raised in the try block, the corresponding except block is executed to handle the exception. The except clause provides an opportunity to catch and handle exceptions, preventing program crashes and allowing for error-specific actions."
   ]
  },
  {
   "cell_type": "code",
   "execution_count": null,
   "id": "1ba91e3d",
   "metadata": {},
   "outputs": [],
   "source": []
  }
 ],
 "metadata": {
  "kernelspec": {
   "display_name": "Python 3 (ipykernel)",
   "language": "python",
   "name": "python3"
  },
  "language_info": {
   "codemirror_mode": {
    "name": "ipython",
    "version": 3
   },
   "file_extension": ".py",
   "mimetype": "text/x-python",
   "name": "python",
   "nbconvert_exporter": "python",
   "pygments_lexer": "ipython3",
   "version": "3.10.9"
  }
 },
 "nbformat": 4,
 "nbformat_minor": 5
}
