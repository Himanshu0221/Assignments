{
 "cells": [
  {
   "cell_type": "markdown",
   "id": "16660102",
   "metadata": {},
   "source": [
    "### Assignment_4\n"
   ]
  },
  {
   "cell_type": "markdown",
   "id": "22e2e589",
   "metadata": {},
   "source": [
    "#### 1. What exactly is [ ]?"
   ]
  },
  {
   "cell_type": "markdown",
   "id": "c45a93c3",
   "metadata": {},
   "source": [
    "[] is an empty list. A list is a built-in data type in Python used to store multiple items in a single variable. It is an ordered collection of elements enclosed within square brackets [].\n",
    "\n",
    "An empty list, represented as [], has no elements in it. It is a list with zero items, meaning it doesn't contain any values. Here's an example:"
   ]
  },
  {
   "cell_type": "code",
   "execution_count": 13,
   "id": "16d4fefe",
   "metadata": {},
   "outputs": [
    {
     "name": "stdout",
     "output_type": "stream",
     "text": [
      "[]\n",
      "0\n"
     ]
    }
   ],
   "source": [
    "empty_list = []\n",
    "print(empty_list)  # Output: []\n",
    "\n",
    "print(len(empty_list))  # Output: 0\n"
   ]
  },
  {
   "cell_type": "markdown",
   "id": "a12071f2",
   "metadata": {},
   "source": [
    "#### 2. In a list of values stored in a variable called spam, how would you assign the value &#39;hello&#39; as the third value? (Assume [2, 4, 6, 8, 10] are in spam.)"
   ]
  },
  {
   "cell_type": "code",
   "execution_count": 14,
   "id": "f795fcaa",
   "metadata": {},
   "outputs": [
    {
     "name": "stdout",
     "output_type": "stream",
     "text": [
      "[2, 4, 6, 'hello', 8, 10]\n"
     ]
    }
   ],
   "source": [
    "spam = [2,4,6,8,10]\n",
    "\n",
    "spam.insert(3, \"hello\")\n",
    "\n",
    "print(spam)"
   ]
  },
  {
   "cell_type": "markdown",
   "id": "f8e3bbf3",
   "metadata": {},
   "source": [
    "### Let's pretend the spam includes the list ['a','b','c','d'] for the next three queries."
   ]
  },
  {
   "cell_type": "markdown",
   "id": "1d9aa7d3",
   "metadata": {},
   "source": [
    "#### 3. What is the value of spam[int(int('3' * 2) / 11)]?"
   ]
  },
  {
   "cell_type": "markdown",
   "id": "2c7e1d48",
   "metadata": {},
   "source": [
    "\n",
    "In Python, the value of spam[int(int('3' * 2) / 11)] depends on the specific contents of the spam list and the calculation involved.\n",
    "\n",
    "Let's evaluate the expression step by step:\n",
    "\n",
    "1. '3' * 2 results in the string '33'. This is the concatenation of the string '3' repeated twice.\n",
    "\n",
    "2. int('33') converts the string '33' to an integer value of 33.\n",
    "\n",
    "3. int('33') / 11 performs the division operation, resulting in the float value 3.0.\n",
    "\n",
    "4. int(3.0) converts the float value 3.0 to an integer value of 3.\n",
    "\n",
    "Finally, spam[int(int('3' * 2) / 11)] retrieves the element from the spam list at index 3."
   ]
  },
  {
   "cell_type": "markdown",
   "id": "915c1295",
   "metadata": {},
   "source": [
    "Answer is \"d\""
   ]
  },
  {
   "cell_type": "markdown",
   "id": "8b8a0abc",
   "metadata": {},
   "source": [
    "#### 4. What is the value of spam[-1]?"
   ]
  },
  {
   "cell_type": "markdown",
   "id": "44bd4412",
   "metadata": {},
   "source": [
    "Answer is 'd'"
   ]
  },
  {
   "cell_type": "markdown",
   "id": "da93003b",
   "metadata": {},
   "source": [
    "#### 5. What is the value of spam[:2]?"
   ]
  },
  {
   "cell_type": "code",
   "execution_count": 18,
   "id": "436e0108",
   "metadata": {},
   "outputs": [
    {
     "data": {
      "text/plain": [
       "['a', 'b']"
      ]
     },
     "execution_count": 18,
     "metadata": {},
     "output_type": "execute_result"
    }
   ],
   "source": [
    "spam=['a','b','c','d']\n",
    "spam[:2]"
   ]
  },
  {
   "cell_type": "markdown",
   "id": "e91a6776",
   "metadata": {},
   "source": [
    "### Let's pretend bacon has the list [3.14,'cat',11, 'cat', True] for the next three questions."
   ]
  },
  {
   "cell_type": "markdown",
   "id": "bc30405e",
   "metadata": {},
   "source": [
    "#### 6. What is the value of bacon.index('cat')?"
   ]
  },
  {
   "cell_type": "code",
   "execution_count": 20,
   "id": "d97b66d2",
   "metadata": {},
   "outputs": [
    {
     "data": {
      "text/plain": [
       "1"
      ]
     },
     "execution_count": 20,
     "metadata": {},
     "output_type": "execute_result"
    }
   ],
   "source": [
    "bacon =  [3.14,'cat',11, 'cat', True]\n",
    "\n",
    "bacon.index('cat')"
   ]
  },
  {
   "cell_type": "markdown",
   "id": "ac4b6c2f",
   "metadata": {},
   "source": [
    "#### 7. How does bacon.append(99) change the look of the list value in bacon?"
   ]
  },
  {
   "cell_type": "code",
   "execution_count": 24,
   "id": "19c231cb",
   "metadata": {},
   "outputs": [
    {
     "name": "stdout",
     "output_type": "stream",
     "text": [
      "[3.14, 'cat', 11, 'cat', True, 99]\n"
     ]
    }
   ],
   "source": [
    "bacon =  [3.14,'cat',11, 'cat', True]\n",
    "\n",
    "bacon.append(99)\n",
    "\n",
    "print(bacon)"
   ]
  },
  {
   "cell_type": "markdown",
   "id": "687c141c",
   "metadata": {},
   "source": [
    "#### 8. How does bacon.remove('cat') change the look of the list in bacon?"
   ]
  },
  {
   "cell_type": "code",
   "execution_count": 26,
   "id": "c57079cd",
   "metadata": {},
   "outputs": [
    {
     "name": "stdout",
     "output_type": "stream",
     "text": [
      "[3.14, 11, 'cat', True]\n"
     ]
    }
   ],
   "source": [
    "bacon =  [3.14,'cat',11, 'cat', True]\n",
    "\n",
    "bacon.remove('cat')\n",
    "\n",
    "print(bacon)"
   ]
  },
  {
   "cell_type": "markdown",
   "id": "d269ed81",
   "metadata": {},
   "source": [
    "#### 9. What are the list concatenation and list replication operators?"
   ]
  },
  {
   "cell_type": "markdown",
   "id": "ea7ef8dd",
   "metadata": {},
   "source": [
    "The list concatenation operator is +, and the list replication operator is *. These operators allow you to combine or repeat lists to create new lists.\n",
    "\n",
    "1. List Concatenation Operator (+):\n",
    "The + operator is used to concatenate two or more lists, creating a new list that contains all the elements from the operands in the order they appear.\n",
    "Here's an example:\n"
   ]
  },
  {
   "cell_type": "code",
   "execution_count": 27,
   "id": "e23e74ab",
   "metadata": {},
   "outputs": [
    {
     "name": "stdout",
     "output_type": "stream",
     "text": [
      "[1, 2, 3, 4, 5, 6]\n"
     ]
    }
   ],
   "source": [
    "list1 = [1, 2, 3]\n",
    "list2 = [4, 5, 6]\n",
    "concatenated_list = list1 + list2\n",
    "\n",
    "print(concatenated_list)  # Output: [1, 2, 3, 4, 5, 6]\n"
   ]
  },
  {
   "cell_type": "markdown",
   "id": "60cb7975",
   "metadata": {},
   "source": [
    "2. List Replication Operator (*):\n",
    "The * operator is used to replicate a list by a specified number of times, creating a new list with repeated elements.\n",
    "Here's an example:"
   ]
  },
  {
   "cell_type": "code",
   "execution_count": 28,
   "id": "a10fff87",
   "metadata": {},
   "outputs": [
    {
     "name": "stdout",
     "output_type": "stream",
     "text": [
      "[1, 2, 3, 1, 2, 3, 1, 2, 3]\n"
     ]
    }
   ],
   "source": [
    "list1 = [1, 2, 3]\n",
    "replicated_list = list1 * 3\n",
    "\n",
    "print(replicated_list)  # Output: [1, 2, 3, 1, 2, 3, 1, 2, 3]\n"
   ]
  },
  {
   "cell_type": "markdown",
   "id": "401cdb0c",
   "metadata": {},
   "source": [
    "#### 10. What is difference between the list methods append() and insert()?"
   ]
  },
  {
   "cell_type": "markdown",
   "id": "8fe66d8f",
   "metadata": {},
   "source": [
    "The append() and insert() methods are both used to add elements to a list in Python, but they differ in how they add elements and where they place them within the list.\n",
    "\n",
    "Here are the differences between the append() and insert() methods:\n",
    "\n",
    "1. append() method:\n",
    "The append() method is used to add an element to the end of a list. It takes a single argument, which is the element to be added, and appends it to the end of the list.\n",
    "Example:"
   ]
  },
  {
   "cell_type": "code",
   "execution_count": 29,
   "id": "34d8be7c",
   "metadata": {},
   "outputs": [
    {
     "name": "stdout",
     "output_type": "stream",
     "text": [
      "[1, 2, 3, 4]\n"
     ]
    }
   ],
   "source": [
    "my_list = [1, 2, 3]\n",
    "my_list.append(4)\n",
    "print(my_list)  # Output: [1, 2, 3, 4]\n"
   ]
  },
  {
   "cell_type": "markdown",
   "id": "78177baf",
   "metadata": {},
   "source": [
    "2. insert() method:\n",
    "The insert() method is used to insert an element at a specific position within a list. It takes two arguments: the index at which the element is to be inserted and the element itself.\n",
    "Example:"
   ]
  },
  {
   "cell_type": "code",
   "execution_count": 30,
   "id": "a6c40c2a",
   "metadata": {},
   "outputs": [
    {
     "name": "stdout",
     "output_type": "stream",
     "text": [
      "[1, 5, 2, 3]\n"
     ]
    }
   ],
   "source": [
    "my_list = [1, 2, 3]\n",
    "my_list.insert(1, 5)\n",
    "print(my_list)  # Output: [1, 5, 2, 3]\n"
   ]
  },
  {
   "cell_type": "markdown",
   "id": "d97b1283",
   "metadata": {},
   "source": [
    "#### 11. What are the two methods for removing items from a list?"
   ]
  },
  {
   "cell_type": "markdown",
   "id": "6adc26dc",
   "metadata": {},
   "source": [
    "\n",
    "In Python, there are several methods available to remove items from a list. Two commonly used methods for removing items from a list are:\n",
    "\n",
    "1. remove() method:\n",
    "The remove() method is used to remove the first occurrence of a specified value from a list. It takes a single argument, which is the value to be removed.\n",
    "Example:"
   ]
  },
  {
   "cell_type": "code",
   "execution_count": 31,
   "id": "70740a30",
   "metadata": {},
   "outputs": [
    {
     "name": "stdout",
     "output_type": "stream",
     "text": [
      "[1, 3, 4, 2]\n"
     ]
    }
   ],
   "source": [
    "my_list = [1, 2, 3, 4, 2]\n",
    "my_list.remove(2)\n",
    "print(my_list)  # Output: [1, 3, 4, 2]\n"
   ]
  },
  {
   "cell_type": "markdown",
   "id": "3c0b2fd4",
   "metadata": {},
   "source": [
    "2. pop() method:\n",
    "The pop() method is used to remove an element from a specific position in the list by its index. It takes an optional argument, which is the index of the element to be removed. If no index is specified, it removes and returns the last element in the list.\n",
    "Example:"
   ]
  },
  {
   "cell_type": "code",
   "execution_count": 33,
   "id": "c9026db7",
   "metadata": {},
   "outputs": [
    {
     "name": "stdout",
     "output_type": "stream",
     "text": [
      "[1, 3, 4]\n",
      "2\n"
     ]
    }
   ],
   "source": [
    "my_list = [1, 2, 3, 4]\n",
    "removed_item = my_list.pop(1)\n",
    "print(my_list)  # Output: [1, 3, 4]\n",
    "print(removed_item)  # Output: 2\n"
   ]
  },
  {
   "cell_type": "markdown",
   "id": "411723b6",
   "metadata": {},
   "source": [
    "#### 12. Describe how list values and string values are identical."
   ]
  },
  {
   "cell_type": "markdown",
   "id": "eac7f1ae",
   "metadata": {},
   "source": [
    "List values and string values in Python are not identical but share some similarities:\n",
    "\n",
    "1. Sequential Data: Both lists and strings are sequences of elements that can be accessed by index.\n",
    "\n",
    "2. Indexing: Both lists and strings support indexing, allowing access to individual elements based on their position within the sequence.\n",
    "\n",
    "3. Slicing: Both lists and strings support slicing, enabling extraction of a subset of elements by specifying a range of indices.\n",
    "\n",
    "However, there are important differences:\n",
    "\n",
    "1. Mutability: Lists are mutable, meaning their elements can be modified, added, or removed. Strings are immutable and cannot be changed after creation.\n",
    "\n",
    "2. Element Types: Lists can hold elements of different types, while strings consist of individual characters.\n",
    "\n",
    "3. String-Specific Operations: Strings have specific operations and methods tailored for string manipulation, such as concatenation, splitting, and finding substrings.\n",
    "\n",
    "In summary, while lists and strings share some characteristics as sequential data types, their mutability, element types, and available operations distinguish them."
   ]
  },
  {
   "cell_type": "markdown",
   "id": "a7f55235",
   "metadata": {},
   "source": [
    "#### 13. What&#39;s the difference between tuples and lists?"
   ]
  },
  {
   "cell_type": "markdown",
   "id": "7ae66ab7",
   "metadata": {},
   "source": [
    "Tuples and lists are both data structures in Python, but they have some key differences:\n",
    "\n",
    "1. Mutability: Tuples are immutable, meaning their elements cannot be modified after creation. Lists are mutable, allowing modifications to elements.\n",
    "\n",
    "2. Syntax: Tuples are defined using parentheses ( ), while lists are defined using square brackets [ ].\n",
    "\n",
    "3. Modification: Tuples do not provide methods to add, remove, or modify elements directly. Lists offer methods like append(), insert(), and indexing assignment for modifying elements.\n",
    "\n",
    "4. Performance: Tuples are generally more efficient in terms of performance and memory usage. Lists require additional memory for potential modifications.\n",
    "\n",
    "5. Usage: Tuples are used for immutable collections of related items, like coordinates or function arguments. Lists are used for mutable sequences of elements.\n",
    "\n",
    "tuples are immutable and defined with parentheses, while lists are mutable and defined with square brackets. Tuples are more memory-efficient and suitable for immutable collections, while lists offer more flexibility for modification."
   ]
  },
  {
   "cell_type": "markdown",
   "id": "c7bb152c",
   "metadata": {},
   "source": [
    "#### 14. How do you type a tuple value that only contains the integer 42?"
   ]
  },
  {
   "cell_type": "code",
   "execution_count": 36,
   "id": "0858a3a4",
   "metadata": {},
   "outputs": [],
   "source": [
    "my_tuple = (42,)"
   ]
  },
  {
   "cell_type": "markdown",
   "id": "4d8171ed",
   "metadata": {},
   "source": [
    "#### 15. How do you get a list value's tuple form? How do you get a tuple value's list form?"
   ]
  },
  {
   "cell_type": "markdown",
   "id": "0ebbcc5e",
   "metadata": {},
   "source": [
    "To convert a list value into its tuple form, we can use the tuple() function. This function takes an iterable (such as a list) as an argument and returns a tuple containing the same elements in the same order.\n",
    "\n",
    "Example:"
   ]
  },
  {
   "cell_type": "code",
   "execution_count": 39,
   "id": "35711091",
   "metadata": {},
   "outputs": [
    {
     "name": "stdout",
     "output_type": "stream",
     "text": [
      "(1, 2, 3, 4)\n"
     ]
    }
   ],
   "source": [
    "my_list = [1, 2, 3, 4]\n",
    "my_tuple = tuple(my_list)\n",
    "print(my_tuple)  # Output: (1, 2, 3, 4)\n"
   ]
  },
  {
   "cell_type": "markdown",
   "id": "18593cb9",
   "metadata": {},
   "source": [
    "To convert a tuple value into its list form, we can use the list() function. This function takes an iterable (such as a tuple) as an argument and returns a list containing the same elements in the same order.\n",
    "\n",
    "Example:"
   ]
  },
  {
   "cell_type": "code",
   "execution_count": 40,
   "id": "1744bba5",
   "metadata": {},
   "outputs": [
    {
     "name": "stdout",
     "output_type": "stream",
     "text": [
      "[1, 2, 3, 4]\n"
     ]
    }
   ],
   "source": [
    "my_tuple = (1, 2, 3, 4)\n",
    "my_list = list(my_tuple)\n",
    "print(my_list)  # Output: [1, 2, 3, 4]\n"
   ]
  },
  {
   "cell_type": "markdown",
   "id": "9a7f7c57",
   "metadata": {},
   "source": [
    "#### 16. Variables that &quot;contain&quot; list values are not necessarily lists themselves. Instead, what do they contain?"
   ]
  },
  {
   "cell_type": "markdown",
   "id": "e6a01b3b",
   "metadata": {},
   "source": [
    "Variables that \"contain\" list values in Python do not store the actual list itself. Instead, they contain references or pointers to the list object in memory. In other words, variables contain memory addresses where the list objects are stored. This allows variables to access and manipulate the list through the memory address reference."
   ]
  },
  {
   "cell_type": "markdown",
   "id": "c747a994",
   "metadata": {},
   "source": [
    "#### 17. How do you distinguish between copy.copy() and copy.deepcopy()?"
   ]
  },
  {
   "cell_type": "markdown",
   "id": "e932c124",
   "metadata": {},
   "source": [
    "\n",
    "copy.copy() and copy.deepcopy() are both functions from the copy module in Python, used to create copies of objects. However, they differ in terms of the level of copying performed. Here's a brief distinction between the two:\n",
    "\n",
    "1. copy.copy() creates a shallow copy of an object. It constructs a new object and populates it with references to the same elements as the original object. If the elements of the object are mutable, changes made to the elements in the new object will also affect the original object and vice versa.\n",
    "\n",
    "Example:"
   ]
  },
  {
   "cell_type": "code",
   "execution_count": 41,
   "id": "c67aeeb1",
   "metadata": {},
   "outputs": [
    {
     "name": "stdout",
     "output_type": "stream",
     "text": [
      "[1, [2, 3, 5], 4]\n",
      "[1, [2, 3, 5], 4]\n"
     ]
    }
   ],
   "source": [
    "import copy\n",
    "\n",
    "original_list = [1, [2, 3], 4]\n",
    "copied_list = copy.copy(original_list)\n",
    "\n",
    "original_list[1].append(5)\n",
    "\n",
    "print(original_list)  # Output: [1, [2, 3, 5], 4]\n",
    "print(copied_list)  # Output: [1, [2, 3, 5], 4]\n"
   ]
  },
  {
   "cell_type": "markdown",
   "id": "e4cb3be4",
   "metadata": {},
   "source": [
    "2. copy.deepcopy() creates a deep copy of an object. It constructs a completely independent object with its own copies of the elements. Even if the elements are mutable, changes made to the elements in the new object do not affect the original object and vice versa.\n",
    "\n",
    "Example:"
   ]
  },
  {
   "cell_type": "code",
   "execution_count": 42,
   "id": "5b3c8303",
   "metadata": {},
   "outputs": [
    {
     "name": "stdout",
     "output_type": "stream",
     "text": [
      "[1, [2, 3, 5], 4]\n",
      "[1, [2, 3], 4]\n"
     ]
    }
   ],
   "source": [
    "import copy\n",
    "\n",
    "original_list = [1, [2, 3], 4]\n",
    "deepcopied_list = copy.deepcopy(original_list)\n",
    "\n",
    "original_list[1].append(5)\n",
    "\n",
    "print(original_list)  # Output: [1, [2, 3, 5], 4]\n",
    "print(deepcopied_list)  # Output: [1, [2, 3], 4]\n"
   ]
  },
  {
   "cell_type": "code",
   "execution_count": null,
   "id": "699a74f9",
   "metadata": {},
   "outputs": [],
   "source": []
  }
 ],
 "metadata": {
  "kernelspec": {
   "display_name": "Python 3 (ipykernel)",
   "language": "python",
   "name": "python3"
  },
  "language_info": {
   "codemirror_mode": {
    "name": "ipython",
    "version": 3
   },
   "file_extension": ".py",
   "mimetype": "text/x-python",
   "name": "python",
   "nbconvert_exporter": "python",
   "pygments_lexer": "ipython3",
   "version": "3.10.9"
  }
 },
 "nbformat": 4,
 "nbformat_minor": 5
}
