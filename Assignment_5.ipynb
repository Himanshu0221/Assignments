{
 "cells": [
  {
   "cell_type": "markdown",
   "id": "cce93060",
   "metadata": {},
   "source": [
    "### Assignment_5"
   ]
  },
  {
   "cell_type": "markdown",
   "id": "3e14ede0",
   "metadata": {},
   "source": [
    "#### 1. What does an empty dictionary's code look like?"
   ]
  },
  {
   "cell_type": "markdown",
   "id": "39742bfb",
   "metadata": {},
   "source": [
    "\n",
    "An empty dictionary in Python is represented by a pair of curly braces {} with no key-value pairs inside. Here's how an empty dictionary's code looks like:"
   ]
  },
  {
   "cell_type": "code",
   "execution_count": 1,
   "id": "0191ab54",
   "metadata": {},
   "outputs": [],
   "source": [
    "my_dict = {}\n"
   ]
  },
  {
   "cell_type": "markdown",
   "id": "a698e24c",
   "metadata": {},
   "source": [
    "#### 2. What is the value of a dictionary value with the key &#39;foo&#39; and the value 42?"
   ]
  },
  {
   "cell_type": "code",
   "execution_count": 3,
   "id": "db7ce095",
   "metadata": {},
   "outputs": [
    {
     "name": "stdout",
     "output_type": "stream",
     "text": [
      "{'foo': 42}\n"
     ]
    }
   ],
   "source": [
    "my_dict ={'foo': 42}\n",
    "\n",
    "print(my_dict)"
   ]
  },
  {
   "cell_type": "markdown",
   "id": "46623b6b",
   "metadata": {},
   "source": [
    "#### 3. What is the most significant distinction between a dictionary and a list?"
   ]
  },
  {
   "cell_type": "markdown",
   "id": "060e2b78",
   "metadata": {},
   "source": [
    "The most significant distinction between a dictionary and a list in Python is how they store and access elements:\n",
    "\n",
    "1. Structure: A list is an ordered collection of elements that can be accessed using indices. Elements in a list are typically stored in the order they are added. On the other hand, a dictionary is an unordered collection of key-value pairs, where elements are accessed using keys instead of indices.\n",
    "\n",
    "2. Access: In a list, elements are accessed by their numerical indices, starting from 0. For example, my_list[0] retrieves the first element of the list. In a dictionary, elements are accessed by their unique keys, which can be of any immutable type (e.g., strings, numbers, tuples). For example, my_dict['key'] retrieves the value associated with the key 'key'.\n",
    "\n",
    "3. Mutability: Both lists and dictionaries are mutable, meaning their elements can be modified. However, the way you modify elements differs. In a list, you can directly modify an element using its index, such as my_list[0] = 'new value'. In a dictionary, you can modify or add elements by assigning values to specific keys, such as my_dict['key'] = 'new value'.\n",
    "\n",
    "4. Ordering: Lists maintain the order of elements based on their positions. Elements are stored sequentially, allowing you to retrieve them in the same order they were added. Dictionaries, on the other hand, do not preserve the order of elements. The order of items in a dictionary is arbitrary and based on the internal implementation.\n",
    "\n",
    "5. Element Retrieval: Retrieving elements from a list involves accessing them by their index position. In contrast, dictionary elements are retrieved by specifying their associated key."
   ]
  },
  {
   "cell_type": "markdown",
   "id": "b41f00dc",
   "metadata": {},
   "source": [
    "#### 4. What happens if you try to access spam[\"foo\"] if spam is {\"bar\": 100}?"
   ]
  },
  {
   "cell_type": "code",
   "execution_count": 5,
   "id": "2502e135",
   "metadata": {},
   "outputs": [
    {
     "ename": "KeyError",
     "evalue": "'foo'",
     "output_type": "error",
     "traceback": [
      "\u001b[1;31m---------------------------------------------------------------------------\u001b[0m",
      "\u001b[1;31mKeyError\u001b[0m                                  Traceback (most recent call last)",
      "Cell \u001b[1;32mIn[5], line 2\u001b[0m\n\u001b[0;32m      1\u001b[0m spam \u001b[38;5;241m=\u001b[39m {\u001b[38;5;124m\"\u001b[39m\u001b[38;5;124mbar\u001b[39m\u001b[38;5;124m\"\u001b[39m:\u001b[38;5;241m100\u001b[39m}\n\u001b[1;32m----> 2\u001b[0m \u001b[43mspam\u001b[49m\u001b[43m[\u001b[49m\u001b[38;5;124;43m\"\u001b[39;49m\u001b[38;5;124;43mfoo\u001b[39;49m\u001b[38;5;124;43m\"\u001b[39;49m\u001b[43m]\u001b[49m\n",
      "\u001b[1;31mKeyError\u001b[0m: 'foo'"
     ]
    }
   ],
   "source": [
    "spam = {\"bar\":100}\n",
    "spam[\"foo\"]"
   ]
  },
  {
   "cell_type": "markdown",
   "id": "6c7ef74f",
   "metadata": {},
   "source": [
    "#### 5. If a dictionary is stored in spam, what is the difference between the expressions \"cat\" in spam and \"cat\" in spam.keys()?"
   ]
  },
  {
   "cell_type": "markdown",
   "id": "c3dcfe4d",
   "metadata": {},
   "source": [
    "'cat' in spam checks if 'cat' is a key in the dictionary spam, while 'cat' in spam.keys() checks if 'cat' is a key present in the list of keys of the dictionary spam. The two expressions are equivalent and will return the same result."
   ]
  },
  {
   "cell_type": "markdown",
   "id": "1e1ad2ba",
   "metadata": {},
   "source": [
    "#### 6. If a dictionary is stored in spam, what is the difference between the expressions \"cat\" in spam and \"cat\" in spam.values()?"
   ]
  },
  {
   "cell_type": "markdown",
   "id": "eca0a551",
   "metadata": {},
   "source": [
    "'cat' in spam checks if 'cat' is a key in the dictionary spam, while 'cat' in spam.values() checks if 'cat' is a value present in the dictionary spam. The two expressions are checking for different things and can return different results."
   ]
  },
  {
   "cell_type": "code",
   "execution_count": 2,
   "id": "807f51d4",
   "metadata": {},
   "outputs": [
    {
     "data": {
      "text/plain": [
       "True"
      ]
     },
     "execution_count": 2,
     "metadata": {},
     "output_type": "execute_result"
    }
   ],
   "source": [
    "spam = {'animal': 'cat'}\n",
    "\n",
    "'cat' in spam  # False\n",
    "'cat' in spam.values()  # True\n"
   ]
  },
  {
   "cell_type": "markdown",
   "id": "81ab238a",
   "metadata": {},
   "source": [
    "#### 7. What is a shortcut for the following code?\n",
    "#### if \"color\" not in spam:\n",
    "#### spam[\"color\"] = \"black\""
   ]
  },
  {
   "cell_type": "markdown",
   "id": "45ed9d52",
   "metadata": {},
   "source": [
    "The line of code checks if the key 'color' exists in the spam dictionary. If the key is present, it returns the corresponding value. If the key is not present, it adds the key-value pair 'color': 'black' to the spam dictionary.\n",
    "\n",
    "By using setdefault(), you can achieve the same functionality as the original code in a shorter and more concise manner."
   ]
  },
  {
   "cell_type": "code",
   "execution_count": 4,
   "id": "b97fe719",
   "metadata": {},
   "outputs": [
    {
     "data": {
      "text/plain": [
       "'black'"
      ]
     },
     "execution_count": 4,
     "metadata": {},
     "output_type": "execute_result"
    }
   ],
   "source": [
    "spam.setdefault('color', 'black')\n"
   ]
  },
  {
   "cell_type": "markdown",
   "id": "245dcea4",
   "metadata": {},
   "source": [
    "#### 8. How do you &quot;pretty print&quot; dictionary values using which module and function?"
   ]
  },
  {
   "cell_type": "code",
   "execution_count": 5,
   "id": "55d509c0",
   "metadata": {},
   "outputs": [
    {
     "name": "stdout",
     "output_type": "stream",
     "text": [
      "{'key1': 'value1', 'key2': 'value2', 'key3': 'value3'}\n"
     ]
    }
   ],
   "source": [
    "import pprint\n",
    "\n",
    "my_dict = {'key1': 'value1', 'key2': 'value2', 'key3': 'value3'}\n",
    "\n",
    "pprint.pprint(my_dict)\n"
   ]
  },
  {
   "cell_type": "code",
   "execution_count": null,
   "id": "0d914233",
   "metadata": {},
   "outputs": [],
   "source": []
  }
 ],
 "metadata": {
  "kernelspec": {
   "display_name": "Python 3 (ipykernel)",
   "language": "python",
   "name": "python3"
  },
  "language_info": {
   "codemirror_mode": {
    "name": "ipython",
    "version": 3
   },
   "file_extension": ".py",
   "mimetype": "text/x-python",
   "name": "python",
   "nbconvert_exporter": "python",
   "pygments_lexer": "ipython3",
   "version": "3.10.9"
  }
 },
 "nbformat": 4,
 "nbformat_minor": 5
}
