{
 "cells": [
  {
   "cell_type": "markdown",
   "id": "0983fc25",
   "metadata": {},
   "source": [
    "### Assignment_2"
   ]
  },
  {
   "cell_type": "markdown",
   "id": "35e36ee1",
   "metadata": {},
   "source": [
    "#### 1.What are the two values of the Boolean data type? How do you write them?"
   ]
  },
  {
   "cell_type": "markdown",
   "id": "5119d428",
   "metadata": {},
   "source": [
    "The two values of the Boolean data type are `True` and `False`. In Python, they are written exactly as shown: `True` and `False`. Note that the capitalization is important, as Python treats them as keywords. \n",
    "\n",
    "Boolean values are commonly used for logical operations, comparisons, and conditional statements in programming to represent the truth or falsity of a condition."
   ]
  },
  {
   "cell_type": "markdown",
   "id": "c9c46514",
   "metadata": {},
   "source": [
    "#### 2. What are the three different types of Boolean operators?"
   ]
  },
  {
   "cell_type": "markdown",
   "id": "a967f6da",
   "metadata": {},
   "source": [
    "The three different types of Boolean operators are:\n",
    "\n",
    "1. **AND**: The `and` operator returns `True` if both operands are `True`, and `False` otherwise. It represents the logical conjunction.\n",
    "\n",
    "2. **OR**: The `or` operator returns `True` if at least one of the operands is `True`, and `False` otherwise. It represents the logical disjunction.\n",
    "\n",
    "3. **NOT**: The `not` operator returns the negation of the operand. It reverses the Boolean value, returning `True` if the operand is `False`, and `False` if the operand is `True`. It represents the logical negation.\n",
    "\n",
    "These Boolean operators are used to combine or manipulate Boolean values and are fundamental for creating complex logical conditions and control flow in programming."
   ]
  },
  {
   "cell_type": "markdown",
   "id": "f45f34c3",
   "metadata": {},
   "source": [
    "#### 3. Make a list of each Boolean operator&#39;s truth tables (i.e. every possible combination of Boolean values for the operator and what it evaluate )."
   ]
  },
  {
   "cell_type": "markdown",
   "id": "2a06041f",
   "metadata": {},
   "source": [
    "1. **AND** (Logical Conjunction):"
   ]
  },
  {
   "cell_type": "code",
   "execution_count": 1,
   "id": "b3ecefc5",
   "metadata": {},
   "outputs": [
    {
     "name": "stdout",
     "output_type": "stream",
     "text": [
      "False\n",
      "False\n",
      "False\n",
      "True\n"
     ]
    }
   ],
   "source": [
    "# Truth table for AND operator\n",
    "print(False and False)  \n",
    "print(False and True)  \n",
    "print(True and False)   \n",
    "print(True and True) "
   ]
  },
  {
   "cell_type": "markdown",
   "id": "ce70d4b2",
   "metadata": {},
   "source": [
    "2. **OR** (Logical Disjunction):"
   ]
  },
  {
   "cell_type": "code",
   "execution_count": 3,
   "id": "a99954c8",
   "metadata": {},
   "outputs": [
    {
     "name": "stdout",
     "output_type": "stream",
     "text": [
      "False\n",
      "True\n",
      "True\n",
      "True\n"
     ]
    }
   ],
   "source": [
    "#Truth table for OR operator\n",
    "print(False or False)  \n",
    "print(False or True)   \n",
    "print(True or False)   \n",
    "print(True or True) "
   ]
  },
  {
   "cell_type": "markdown",
   "id": "605a20b7",
   "metadata": {},
   "source": [
    "3. **NOT** (Logical Negation):"
   ]
  },
  {
   "cell_type": "code",
   "execution_count": 6,
   "id": "2a7a1844",
   "metadata": {},
   "outputs": [
    {
     "name": "stdout",
     "output_type": "stream",
     "text": [
      "True\n",
      "False\n"
     ]
    }
   ],
   "source": [
    "# Truth table for NOT operator\n",
    "print(not False)  \n",
    "print(not True)"
   ]
  },
  {
   "cell_type": "markdown",
   "id": "fb450566",
   "metadata": {},
   "source": [
    "#### 4. What are the values of the following expressions?\n",
    "#### (5 > 4) and (3 == 5)\n",
    "#### not (5 > 4)\n",
    "#### (5 > 4) or (3 == 5)\n",
    "#### not ((5 > 4) or (3 == 5))\n",
    "#### (True and True) and (True == False)\n",
    "#### (not False) or (not True)"
   ]
  },
  {
   "cell_type": "markdown",
   "id": "eac14d30",
   "metadata": {},
   "source": [
    "The values of the given expressions in Python are as follows:"
   ]
  },
  {
   "cell_type": "code",
   "execution_count": 8,
   "id": "3b5284a4",
   "metadata": {},
   "outputs": [
    {
     "name": "stdout",
     "output_type": "stream",
     "text": [
      "False\n",
      "False\n",
      "True\n",
      "False\n",
      "False\n",
      "True\n"
     ]
    }
   ],
   "source": [
    "print((5 > 4) and (3 == 5))                    \n",
    "print(not (5 > 4))                            \n",
    "print((5 > 4) or (3 == 5))                    \n",
    "print(not ((5 > 4) or (3 == 5)))              \n",
    "print((True and True) and (True == False))    \n",
    "print((not False) or (not True))               \n"
   ]
  },
  {
   "cell_type": "markdown",
   "id": "362df9a1",
   "metadata": {},
   "source": [
    "#### 5. What are the six comparison operators?"
   ]
  },
  {
   "cell_type": "markdown",
   "id": "78699ca1",
   "metadata": {},
   "source": [
    "The six comparison operators in Python are:\n",
    "\n",
    "1. **Equal to (`==`)**: Checks if two values are equal.\n",
    "\n",
    "2. **Not equal to (`!=`)**: Checks if two values are not equal.\n",
    "\n",
    "3. **Greater than (`>`)**: Checks if the left operand is greater than the right operand.\n",
    "\n",
    "4. **Less than (`<`)**: Checks if the left operand is less than the right operand.\n",
    "\n",
    "5. **Greater than or equal to (`>=`)**: Checks if the left operand is greater than or equal to the right operand.\n",
    "\n",
    "6. **Less than or equal to (`<=`)**: Checks if the left operand is less than or equal to the right operand.\n",
    "\n",
    "These comparison operators are used to compare values and return a Boolean result (`True` or `False`) based on the evaluation of the comparison."
   ]
  },
  {
   "cell_type": "markdown",
   "id": "2bbe98d2",
   "metadata": {},
   "source": [
    "#### 6. How do you tell the difference between the equal to and assignment operators?Describe a condition and when you would use one."
   ]
  },
  {
   "cell_type": "markdown",
   "id": "527ba8d4",
   "metadata": {},
   "source": [
    "To differentiate between the equal to (`==`) operator and the assignment (`=`) operator, consider the following:\n",
    "\n",
    "1. **Equal to (`==`) Operator**: The equal to operator is used to compare two values and checks if they are equal. It returns `True` if the values are equal and `False` otherwise. For example"
   ]
  },
  {
   "cell_type": "code",
   "execution_count": 9,
   "id": "87990351",
   "metadata": {},
   "outputs": [
    {
     "name": "stdout",
     "output_type": "stream",
     "text": [
      "x is not equal to y\n"
     ]
    }
   ],
   "source": [
    "x = 5\n",
    "y = 10\n",
    "if x == y:\n",
    "    print(\"x is equal to y\")\n",
    "else:\n",
    "    print(\"x is not equal to y\")\n"
   ]
  },
  {
   "cell_type": "markdown",
   "id": "6b93656f",
   "metadata": {},
   "source": [
    "2. **Assignment (`=`) Operator**: The assignment operator is used to assign a value to a variable. It assigns the value on the right-hand side to the variable on the left-hand side. For example:"
   ]
  },
  {
   "cell_type": "code",
   "execution_count": 10,
   "id": "fd372d53",
   "metadata": {},
   "outputs": [
    {
     "name": "stdout",
     "output_type": "stream",
     "text": [
      "5\n"
     ]
    }
   ],
   "source": [
    "x = 5\n",
    "y = x\n",
    "print(y)  \n"
   ]
  },
  {
   "cell_type": "markdown",
   "id": "97c61c1c",
   "metadata": {},
   "source": [
    "The equal to (`==`) operator is used for comparison, while the assignment (`=`) operator is used for assigning values to variables. The equal to operator is used within conditions or expressions to evaluate equality, while the assignment operator is used to store or assign values to variables."
   ]
  },
  {
   "cell_type": "markdown",
   "id": "d840a608",
   "metadata": {},
   "source": [
    "#### 7. Identify the three blocks in this code:\n",
    "#### spam = 0\n",
    "#### if spam == 10:\n",
    "#### print('eggs')\n",
    "#### if spam > 5:\n",
    "#### print('bacon')\n",
    "#### else:\n",
    "#### print('ham')\n",
    "#### print('spam')\n",
    "#### print('spam')"
   ]
  },
  {
   "cell_type": "code",
   "execution_count": 11,
   "id": "40eff146",
   "metadata": {},
   "outputs": [
    {
     "name": "stdout",
     "output_type": "stream",
     "text": [
      "ham\n",
      "spam\n",
      "spam\n"
     ]
    }
   ],
   "source": [
    "spam = 0\n",
    "\n",
    "if spam == 10:\n",
    "    print('eggs')\n",
    "\n",
    "if spam > 5:\n",
    "    print('bacon')\n",
    "else:\n",
    "    print('ham')\n",
    "\n",
    "print('spam')\n",
    "print('spam')\n"
   ]
  },
  {
   "cell_type": "markdown",
   "id": "fe47895b",
   "metadata": {},
   "source": [
    "#### 8. Write code that prints Hello if 1 is stored in spam, prints Howdy if 2 is stored in spam, and prints Greetings! if anything else is stored in spam."
   ]
  },
  {
   "cell_type": "code",
   "execution_count": 15,
   "id": "36b678f4",
   "metadata": {},
   "outputs": [
    {
     "name": "stdout",
     "output_type": "stream",
     "text": [
      "Enter a value for spam: 2\n",
      "Howdy\n"
     ]
    }
   ],
   "source": [
    "spam = int(input(\"Enter a value for spam: \"))  # Assuming user inputs a value\n",
    "\n",
    "if spam == 1:\n",
    "    print(\"Hello\")\n",
    "elif spam == 2:\n",
    "    print(\"Howdy\")\n",
    "else:\n",
    "    print(\"Greetings!\")\n"
   ]
  },
  {
   "cell_type": "markdown",
   "id": "0006a7af",
   "metadata": {},
   "source": [
    "#### 9.If your programme is stuck in an endless loop, what keys you’ll press?"
   ]
  },
  {
   "cell_type": "markdown",
   "id": "c2d1e188",
   "metadata": {},
   "source": [
    "If your program is stuck in an endless loop and you want to stop its execution, you can typically use the following key combination depending on your operating system and development environment:\n",
    "\n",
    "1. **Ctrl+C**: This key combination is commonly used on most systems to interrupt the execution of a program and terminate it. Pressing Ctrl+C sends a SIGINT signal to the program, causing it to exit.\n"
   ]
  },
  {
   "cell_type": "markdown",
   "id": "e10eb911",
   "metadata": {},
   "source": [
    "#### 10. How can you tell the difference between break and continue?"
   ]
  },
  {
   "cell_type": "markdown",
   "id": "857430ad",
   "metadata": {},
   "source": [
    "`break` is used to exit the loop entirely and continue with the next statement outside the loop, while `continue` is used to skip the remaining code within the current iteration and move to the next iteration of the loop."
   ]
  },
  {
   "cell_type": "markdown",
   "id": "4562395a",
   "metadata": {},
   "source": [
    "#### 11. In a for loop, what is the difference between range(10), range(0, 10), and range(0, 10, 1)?"
   ]
  },
  {
   "cell_type": "markdown",
   "id": "845ee4bb",
   "metadata": {},
   "source": [
    "In a for loop, `range(10)`, `range(0, 10)`, and `range(0, 10, 1)` are different ways of specifying the range of values to iterate over. However, they produce the same result in terms of the sequence of numbers generated. \n",
    "\n",
    "- `range(10)` represents a sequence from 0 to 9 (10 numbers in total) with a default step size of 1.\n",
    "- `range(0, 10)` explicitly specifies the starting point as 0 and the ending point as 10 (exclusive), also generating a sequence from 0 to 9 with a default step size of 1.\n",
    "- `range(0, 10, 1)` explicitly specifies the starting point as 0, the ending point as 10 (exclusive), and the step size as 1. Again, it generates the same sequence from 0 to 9.\n",
    "\n",
    "In summary, all three forms generate a sequence of numbers from 0 to 9 with a step size of 1. The difference lies in how the range is specified, with varying levels of explicitness."
   ]
  },
  {
   "cell_type": "markdown",
   "id": "1cf9c60d",
   "metadata": {},
   "source": [
    "#### 12. Write a short program that prints the numbers 1 to 10 using a for loop. Then write an equivalent program that prints the numbers 1 to 10 using a while loop."
   ]
  },
  {
   "cell_type": "code",
   "execution_count": 19,
   "id": "3ae3e6c3",
   "metadata": {},
   "outputs": [
    {
     "name": "stdout",
     "output_type": "stream",
     "text": [
      "1\n",
      "2\n",
      "3\n",
      "4\n",
      "5\n",
      "6\n",
      "7\n",
      "8\n",
      "9\n",
      "10\n"
     ]
    }
   ],
   "source": [
    "# Using a for loop\n",
    "for num in range(1, 11):\n",
    "    print(num)\n"
   ]
  },
  {
   "cell_type": "code",
   "execution_count": 20,
   "id": "aa8414fb",
   "metadata": {},
   "outputs": [
    {
     "name": "stdout",
     "output_type": "stream",
     "text": [
      "1\n",
      "2\n",
      "3\n",
      "4\n",
      "5\n",
      "6\n",
      "7\n",
      "8\n",
      "9\n",
      "10\n"
     ]
    }
   ],
   "source": [
    "# Using a while loop\n",
    "num = 1\n",
    "while num <= 10:\n",
    "    print(num)\n",
    "    num += 1\n"
   ]
  },
  {
   "cell_type": "markdown",
   "id": "24967135",
   "metadata": {},
   "source": [
    "#### 13. If you had a function named bacon() inside a module named spam, how would you call it after importing spam?"
   ]
  },
  {
   "cell_type": "code",
   "execution_count": 22,
   "id": "e31b3403",
   "metadata": {},
   "outputs": [
    {
     "ename": "ModuleNotFoundError",
     "evalue": "No module named 'spam'",
     "output_type": "error",
     "traceback": [
      "\u001b[1;31m---------------------------------------------------------------------------\u001b[0m",
      "\u001b[1;31mModuleNotFoundError\u001b[0m                       Traceback (most recent call last)",
      "Cell \u001b[1;32mIn[22], line 1\u001b[0m\n\u001b[1;32m----> 1\u001b[0m \u001b[38;5;28;01mimport\u001b[39;00m \u001b[38;5;21;01mspam\u001b[39;00m\n\u001b[0;32m      3\u001b[0m spam\u001b[38;5;241m.\u001b[39mbacon()\n",
      "\u001b[1;31mModuleNotFoundError\u001b[0m: No module named 'spam'"
     ]
    }
   ],
   "source": [
    "import spam\n",
    "\n",
    "spam.bacon()\n"
   ]
  },
  {
   "cell_type": "code",
   "execution_count": null,
   "id": "141a59c5",
   "metadata": {},
   "outputs": [],
   "source": []
  }
 ],
 "metadata": {
  "kernelspec": {
   "display_name": "Python 3 (ipykernel)",
   "language": "python",
   "name": "python3"
  },
  "language_info": {
   "codemirror_mode": {
    "name": "ipython",
    "version": 3
   },
   "file_extension": ".py",
   "mimetype": "text/x-python",
   "name": "python",
   "nbconvert_exporter": "python",
   "pygments_lexer": "ipython3",
   "version": "3.10.9"
  }
 },
 "nbformat": 4,
 "nbformat_minor": 5
}
